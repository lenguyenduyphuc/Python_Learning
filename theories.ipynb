{
 "cells": [
  {
   "cell_type": "code",
   "execution_count": 2,
   "id": "254b0b79",
   "metadata": {},
   "outputs": [
    {
     "name": "stdout",
     "output_type": "stream",
     "text": [
      "Student: Alice, Major: Computer Science\n"
     ]
    }
   ],
   "source": [
    "#1. Classes with __init__ and __str__ methods\n",
    "class Student:\n",
    "    def __init__(self, name, major):\n",
    "        self.name = name\n",
    "        self.major = major\n",
    "\n",
    "    def __str__(self):\n",
    "        return f'Student: {self.name}, Major: {self.major}'\n",
    "    \n",
    "s = Student('Alice', \"Computer Science\")\n",
    "print(s)"
   ]
  },
  {
   "cell_type": "code",
   "execution_count": 4,
   "id": "02583ab2",
   "metadata": {},
   "outputs": [
    {
     "name": "stdout",
     "output_type": "stream",
     "text": [
      "Toyota engine started.\n",
      "Driving Toyota Camry\n"
     ]
    }
   ],
   "source": [
    "class Vehicle:\n",
    "    def __init__(self, brand):\n",
    "        self.brand = brand\n",
    "\n",
    "    def start(self):\n",
    "        return f\"{self.brand} engine started.\"\n",
    "\n",
    "class Car(Vehicle):\n",
    "    def __init__(self, brand, model):\n",
    "        # Vehicle.__init__(self, brand)\n",
    "        super().__init__(brand)\n",
    "        self.model = model\n",
    "\n",
    "    def drive(self):\n",
    "        return f\"Driving {self.brand} {self.model}\"\n",
    "\n",
    "my_car = Car(\"Toyota\", \"Camry\")\n",
    "print(my_car.start())   # Toyota engine started.\n",
    "print(my_car.drive())   # Driving Toyota Camry\n"
   ]
  },
  {
   "cell_type": "code",
   "execution_count": 5,
   "id": "d3b1ce09",
   "metadata": {},
   "outputs": [
    {
     "name": "stdout",
     "output_type": "stream",
     "text": [
      "1984\n"
     ]
    }
   ],
   "source": [
    "class Book:\n",
    "    def __init__(self, title, author):\n",
    "        self.title = title\n",
    "        self.author = author\n",
    "\n",
    "book1 = Book(\"1984\", \"George Orwell\")\n",
    "print(book1.title)  # 1984\n"
   ]
  },
  {
   "cell_type": "code",
   "execution_count": 7,
   "id": "11a6f87a",
   "metadata": {},
   "outputs": [
    {
     "name": "stdout",
     "output_type": "stream",
     "text": [
      "Fido\n",
      "Rex\n",
      "Luna\n"
     ]
    }
   ],
   "source": [
    "class Dog:\n",
    "    def __init__(self, name):\n",
    "        self.name = name\n",
    "    \n",
    "dogs = [Dog(\"Fido\"), Dog(\"Rex\"), Dog(\"Luna\")]\n",
    "\n",
    "for d in dogs:\n",
    "    print(d.name)"
   ]
  },
  {
   "cell_type": "code",
   "execution_count": 8,
   "id": "afcc9cb9",
   "metadata": {},
   "outputs": [
    {
     "name": "stdout",
     "output_type": "stream",
     "text": [
      "Bark\n"
     ]
    }
   ],
   "source": [
    "# is-a relationship\n",
    "class Animal:\n",
    "    def speak(self):\n",
    "        return \"Some sound\"\n",
    "\n",
    "class Dog(Animal):  # Dog **is an** Animal\n",
    "    def speak(self):\n",
    "        return \"Bark\"\n",
    "\n",
    "d = Dog()\n",
    "print(d.speak())  # Output: Bark"
   ]
  },
  {
   "cell_type": "code",
   "execution_count": 9,
   "id": "62b6f460",
   "metadata": {},
   "outputs": [
    {
     "name": "stdout",
     "output_type": "stream",
     "text": [
      "Engine Start and car is driving\n"
     ]
    }
   ],
   "source": [
    "# has-a relationship\n",
    "class Engine:\n",
    "    def start(self):\n",
    "        return \"Engine Start\"\n",
    "    \n",
    "class Car:\n",
    "    def __init__(self):\n",
    "        self.engine = Engine()\n",
    "\n",
    "    def drive(self):\n",
    "        return self.engine.start() + \" and car is driving\"\n",
    "    \n",
    "car = Car()\n",
    "print(car.drive())"
   ]
  },
  {
   "cell_type": "code",
   "execution_count": 11,
   "id": "e47cf951",
   "metadata": {},
   "outputs": [
    {
     "name": "stdout",
     "output_type": "stream",
     "text": [
      "My name is Lina\n",
      "Lina is studying.\n"
     ]
    }
   ],
   "source": [
    "# Single Inheritance\n",
    "class Person:\n",
    "    def __init__(self, name):\n",
    "        self.name = name\n",
    "\n",
    "    def introduce(self):\n",
    "        return f\"My name is {self.name}\"\n",
    "\n",
    "class Student(Person):\n",
    "    def study(self):\n",
    "        return f\"{self.name} is studying.\"\n",
    "\n",
    "s = Student(\"Lina\")\n",
    "print(s.introduce())  # Inherited\n",
    "print(s.study())      # Own method"
   ]
  },
  {
   "cell_type": "code",
   "execution_count": 12,
   "id": "062cc1c2",
   "metadata": {},
   "outputs": [
    {
     "name": "stdout",
     "output_type": "stream",
     "text": [
      "Drawing a masterpiece\n",
      "Constructing a structure\n"
     ]
    }
   ],
   "source": [
    "# Multiple Inheritance \n",
    "class Artist:\n",
    "    def draw(self):\n",
    "        return \"Drawing a masterpiece\"\n",
    "\n",
    "class Engineer:\n",
    "    def build(self):\n",
    "        return \"Constructing a structure\"\n",
    "\n",
    "class Designer(Artist, Engineer):\n",
    "    pass\n",
    "\n",
    "d = Designer()\n",
    "print(d.draw())   # From Artist\n",
    "print(d.build())  # From Engineer"
   ]
  },
  {
   "cell_type": "code",
   "execution_count": 1,
   "id": "775910d6",
   "metadata": {},
   "outputs": [
    {
     "name": "stdout",
     "output_type": "stream",
     "text": [
      "Speed: 25 km/h\n",
      "Ring ring!\n"
     ]
    }
   ],
   "source": [
    "class Vehicle:\n",
    "    def __init__(self, speed):\n",
    "        self.speed = speed\n",
    "\n",
    "    def display_speed(self):\n",
    "        return f\"Speed: {self.speed} km/h\"\n",
    "\n",
    "class Bike(Vehicle):\n",
    "    def ring_bell(self):\n",
    "        return \"Ring ring!\"\n",
    "\n",
    "b = Bike(25)\n",
    "print(b.display_speed())  # Access parent method\n",
    "print(b.ring_bell())      # Child method"
   ]
  },
  {
   "cell_type": "code",
   "execution_count": 2,
   "id": "71a594c2",
   "metadata": {},
   "outputs": [
    {
     "name": "stdout",
     "output_type": "stream",
     "text": [
      "<__main__.Person object at 0x0000025B92ED8590>\n"
     ]
    }
   ],
   "source": [
    "class Person:\n",
    "  def __init__(self, name, age):\n",
    "    self.name = name\n",
    "    self.age = age\n",
    "\n",
    "p1 = Person(\"John\", 36)\n",
    "\n",
    "print(p1)\n"
   ]
  },
  {
   "cell_type": "code",
   "execution_count": 3,
   "id": "7e314f81",
   "metadata": {},
   "outputs": [
    {
     "name": "stdout",
     "output_type": "stream",
     "text": [
      "John(36)\n"
     ]
    }
   ],
   "source": [
    "class Person:\n",
    "  def __init__(self, name, age):\n",
    "    self.name = name\n",
    "    self.age = age\n",
    "\n",
    "  def __str__(self):\n",
    "    return f\"{self.name}({self.age})\"\n",
    "\n",
    "p1 = Person(\"John\", 36)\n",
    "\n",
    "print(p1)"
   ]
  },
  {
   "cell_type": "code",
   "execution_count": null,
   "id": "0441e115",
   "metadata": {},
   "outputs": [],
   "source": []
  }
 ],
 "metadata": {
  "kernelspec": {
   "display_name": "venv",
   "language": "python",
   "name": "python3"
  },
  "language_info": {
   "codemirror_mode": {
    "name": "ipython",
    "version": 3
   },
   "file_extension": ".py",
   "mimetype": "text/x-python",
   "name": "python",
   "nbconvert_exporter": "python",
   "pygments_lexer": "ipython3",
   "version": "3.13.2"
  }
 },
 "nbformat": 4,
 "nbformat_minor": 5
}
