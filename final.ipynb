{
 "cells": [
  {
   "cell_type": "code",
   "execution_count": 50,
   "id": "9a66bdfe",
   "metadata": {},
   "outputs": [],
   "source": [
    "import tkinter as tk\n",
    "from tkinter import messagebox"
   ]
  },
  {
   "cell_type": "code",
   "execution_count": 51,
   "id": "f43d0f27",
   "metadata": {},
   "outputs": [
    {
     "data": {
      "text/plain": [
       "''"
      ]
     },
     "execution_count": 51,
     "metadata": {},
     "output_type": "execute_result"
    }
   ],
   "source": [
    "window = tk.Tk()\n",
    "window.title(\"Tkinter rocks\")\n",
    "window.geometry(\"500x500\")"
   ]
  },
  {
   "cell_type": "code",
   "execution_count": 52,
   "id": "0d8757cc",
   "metadata": {},
   "outputs": [],
   "source": [
    "label = tk.Label(window, text=\"This is a Label\", font=(\"Arial\", 14))\n",
    "label.pack(pady=10)"
   ]
  },
  {
   "cell_type": "code",
   "execution_count": 53,
   "id": "685c2539",
   "metadata": {},
   "outputs": [],
   "source": [
    "entry = tk.Entry()\n",
    "entry.pack(pady=5)"
   ]
  },
  {
   "cell_type": "code",
   "execution_count": 54,
   "id": "819f014c",
   "metadata": {},
   "outputs": [],
   "source": [
    "def show_message():\n",
    "    messagebox.showinfo(\"hello\", \"Button Clicked\")\n",
    "\n",
    "button = tk.Button(window, text=\"Click me\", command=show_message)\n",
    "button.pack(padx=10)"
   ]
  },
  {
   "cell_type": "code",
   "execution_count": 55,
   "id": "d77d6a9a",
   "metadata": {},
   "outputs": [],
   "source": [
    "text = tk.Text(window, height=5, width=10)\n",
    "text.insert(tk.END, \"This is a text widget\")\n",
    "text.pack(pady=5)"
   ]
  },
  {
   "cell_type": "code",
   "execution_count": 56,
   "id": "e4f0c812",
   "metadata": {},
   "outputs": [],
   "source": [
    "window.mainloop()"
   ]
  },
  {
   "cell_type": "code",
   "execution_count": null,
   "id": "adf35773",
   "metadata": {},
   "outputs": [
    {
     "name": "stdout",
     "output_type": "stream",
     "text": [
      "False\n"
     ]
    }
   ],
   "source": [
    "x = 256\n",
    "z = x\n",
    "y = 256\n",
    "print(z is y)"
   ]
  },
  {
   "cell_type": "code",
   "execution_count": null,
   "id": "10aea9f1",
   "metadata": {},
   "outputs": [],
   "source": []
  }
 ],
 "metadata": {
  "kernelspec": {
   "display_name": "venv",
   "language": "python",
   "name": "python3"
  },
  "language_info": {
   "codemirror_mode": {
    "name": "ipython",
    "version": 3
   },
   "file_extension": ".py",
   "mimetype": "text/x-python",
   "name": "python",
   "nbconvert_exporter": "python",
   "pygments_lexer": "ipython3",
   "version": "3.13.2"
  }
 },
 "nbformat": 4,
 "nbformat_minor": 5
}
