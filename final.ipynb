{
 "cells": [
  {
   "cell_type": "code",
   "execution_count": 50,
   "id": "9a66bdfe",
   "metadata": {},
   "outputs": [],
   "source": [
    "import tkinter as tk\n",
    "from tkinter import messagebox"
   ]
  },
  {
   "cell_type": "code",
   "execution_count": 51,
   "id": "f43d0f27",
   "metadata": {},
   "outputs": [
    {
     "data": {
      "text/plain": [
       "''"
      ]
     },
     "execution_count": 51,
     "metadata": {},
     "output_type": "execute_result"
    }
   ],
   "source": [
    "window = tk.Tk()\n",
    "window.title(\"Tkinter rocks\")\n",
    "window.geometry(\"500x500\")"
   ]
  },
  {
   "cell_type": "code",
   "execution_count": 52,
   "id": "0d8757cc",
   "metadata": {},
   "outputs": [],
   "source": [
    "label = tk.Label(window, text=\"This is a Label\", font=(\"Arial\", 14))\n",
    "label.pack(pady=10)"
   ]
  },
  {
   "cell_type": "code",
   "execution_count": 53,
   "id": "685c2539",
   "metadata": {},
   "outputs": [],
   "source": [
    "entry = tk.Entry()\n",
    "entry.pack(pady=5)"
   ]
  },
  {
   "cell_type": "code",
   "execution_count": 54,
   "id": "819f014c",
   "metadata": {},
   "outputs": [],
   "source": [
    "def show_message():\n",
    "    messagebox.showinfo(\"hello\", \"Button Clicked\")\n",
    "\n",
    "button = tk.Button(window, text=\"Click me\", command=show_message)\n",
    "button.pack(padx=10)"
   ]
  },
  {
   "cell_type": "code",
   "execution_count": 55,
   "id": "d77d6a9a",
   "metadata": {},
   "outputs": [],
   "source": [
    "text = tk.Text(window, height=5, width=10)\n",
    "text.insert(tk.END, \"This is a text widget\")\n",
    "text.pack(pady=5)"
   ]
  },
  {
   "cell_type": "code",
   "execution_count": 56,
   "id": "e4f0c812",
   "metadata": {},
   "outputs": [],
   "source": [
    "window.mainloop()"
   ]
  },
  {
   "cell_type": "code",
   "execution_count": 60,
   "id": "adf35773",
   "metadata": {},
   "outputs": [
    {
     "name": "stdout",
     "output_type": "stream",
     "text": [
      "True\n"
     ]
    }
   ],
   "source": [
    "x = 256\n",
    "z = 128 * 2\n",
    "y = 256\n",
    "print(z is y)"
   ]
  },
  {
   "cell_type": "code",
   "execution_count": 61,
   "id": "10aea9f1",
   "metadata": {},
   "outputs": [
    {
     "name": "stdout",
     "output_type": "stream",
     "text": [
      "even\n"
     ]
    }
   ],
   "source": [
    "x = 10\n",
    "result = \"even\" if x % 2 == 0 else \"odd\"\n",
    "print(result)"
   ]
  },
  {
   "cell_type": "code",
   "execution_count": 62,
   "id": "aa04c50f",
   "metadata": {},
   "outputs": [
    {
     "name": "stdout",
     "output_type": "stream",
     "text": [
      "Unknown\n"
     ]
    }
   ],
   "source": [
    "def status(code):\n",
    "    match code:\n",
    "        case 200:\n",
    "            return \"OK\"\n",
    "        case 404:\n",
    "            return \"Not Found\"\n",
    "        case 500:\n",
    "            return \"Server Error\"\n",
    "        case _:\n",
    "            return \"Unknown\"\n",
    "\n",
    "print(status(400))"
   ]
  },
  {
   "cell_type": "code",
   "execution_count": 64,
   "id": "4a375aa7",
   "metadata": {},
   "outputs": [
    {
     "name": "stdout",
     "output_type": "stream",
     "text": [
      "3\n"
     ]
    }
   ],
   "source": [
    "import random\n",
    "print(random.randrange(1, 5))\n"
   ]
  },
  {
   "cell_type": "code",
   "execution_count": 67,
   "id": "7f4cad36",
   "metadata": {},
   "outputs": [
    {
     "name": "stdout",
     "output_type": "stream",
     "text": [
      "0 apple\n",
      "1 banana\n",
      "2 cherry\n"
     ]
    }
   ],
   "source": [
    "fruits = [\"apple\", \"banana\", \"cherry\"]\n",
    "\n",
    "for i, value in enumerate(fruits):\n",
    "    print(i, value)"
   ]
  },
  {
   "cell_type": "code",
   "execution_count": 68,
   "id": "ffbf6de0",
   "metadata": {},
   "outputs": [
    {
     "name": "stdout",
     "output_type": "stream",
     "text": [
      "1\n"
     ]
    }
   ],
   "source": [
    "cnt = 0\n",
    "\n",
    "def increment():\n",
    "    global cnt\n",
    "    cnt += 1\n",
    "\n",
    "increment()\n",
    "print(cnt)"
   ]
  },
  {
   "cell_type": "code",
   "execution_count": 69,
   "id": "3b2dccaa",
   "metadata": {},
   "outputs": [
    {
     "name": "stdout",
     "output_type": "stream",
     "text": [
      "10\n"
     ]
    }
   ],
   "source": [
    "def add_all(*args):\n",
    "    return sum(args)\n",
    "\n",
    "print(add_all(1,2,3,4))"
   ]
  },
  {
   "cell_type": "code",
   "execution_count": 71,
   "id": "4af94f0b",
   "metadata": {},
   "outputs": [
    {
     "name": "stdout",
     "output_type": "stream",
     "text": [
      "name, Alice\n",
      "age, 30\n",
      "city, Paris\n"
     ]
    }
   ],
   "source": [
    "def show_info(**kwargs):\n",
    "    for key, value in kwargs.items():\n",
    "        print(f\"{key}, {value}\")\n",
    "    \n",
    "show_info(name=\"Alice\", age=\"30\", city=\"Paris\")"
   ]
  },
  {
   "cell_type": "code",
   "execution_count": 72,
   "id": "3acfd277",
   "metadata": {},
   "outputs": [
    {
     "name": "stdout",
     "output_type": "stream",
     "text": [
      "Positional: (1, 2, 3)\n",
      "Keyword: {'a': 'x', 'b': 'y'}\n"
     ]
    }
   ],
   "source": [
    "def mixed(*args, **kwargs):\n",
    "    print(\"Positional:\", args)\n",
    "    print(\"Keyword:\", kwargs)\n",
    "\n",
    "mixed(1, 2, 3, a=\"x\", b=\"y\")\n"
   ]
  },
  {
   "cell_type": "code",
   "execution_count": 73,
   "id": "4259a0f9",
   "metadata": {},
   "outputs": [
    {
     "name": "stdout",
     "output_type": "stream",
     "text": [
      "4\n"
     ]
    }
   ],
   "source": [
    "square = lambda x: x**2\n",
    "print(square(2))"
   ]
  },
  {
   "cell_type": "code",
   "execution_count": 74,
   "id": "688debdc",
   "metadata": {},
   "outputs": [
    {
     "name": "stdout",
     "output_type": "stream",
     "text": [
      "[1, 4, 9]\n"
     ]
    }
   ],
   "source": [
    "nums = [1, 2, 3]\n",
    "squares = list(map(lambda x: x**2, nums))\n",
    "print(squares)"
   ]
  },
  {
   "cell_type": "code",
   "execution_count": null,
   "id": "8da6f52f",
   "metadata": {},
   "outputs": [],
   "source": []
  }
 ],
 "metadata": {
  "kernelspec": {
   "display_name": "venv",
   "language": "python",
   "name": "python3"
  },
  "language_info": {
   "codemirror_mode": {
    "name": "ipython",
    "version": 3
   },
   "file_extension": ".py",
   "mimetype": "text/x-python",
   "name": "python",
   "nbconvert_exporter": "python",
   "pygments_lexer": "ipython3",
   "version": "3.13.2"
  }
 },
 "nbformat": 4,
 "nbformat_minor": 5
}
