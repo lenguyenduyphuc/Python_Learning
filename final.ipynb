{
 "cells": [
  {
   "cell_type": "code",
   "execution_count": 1,
   "id": "9a66bdfe",
   "metadata": {},
   "outputs": [],
   "source": [
    "import tkinter as tk\n",
    "from tkinter import messagebox"
   ]
  },
  {
   "cell_type": "code",
   "execution_count": 2,
   "id": "f43d0f27",
   "metadata": {},
   "outputs": [
    {
     "data": {
      "text/plain": [
       "''"
      ]
     },
     "execution_count": 2,
     "metadata": {},
     "output_type": "execute_result"
    }
   ],
   "source": [
    "window = tk.Tk()\n",
    "window.title(\"Tkinter rocks\")\n",
    "window.geometry(\"500x500\")"
   ]
  },
  {
   "cell_type": "code",
   "execution_count": 3,
   "id": "0d8757cc",
   "metadata": {},
   "outputs": [],
   "source": [
    "label = tk.Label(window, text=\"This is a Label\", font=(\"Arial\", 14))\n",
    "label.pack(pady=10)"
   ]
  },
  {
   "cell_type": "code",
   "execution_count": 4,
   "id": "685c2539",
   "metadata": {},
   "outputs": [],
   "source": [
    "entry = tk.Entry()\n",
    "entry.pack(pady=5)"
   ]
  },
  {
   "cell_type": "code",
   "execution_count": 5,
   "id": "819f014c",
   "metadata": {},
   "outputs": [],
   "source": [
    "def show_message():\n",
    "    messagebox.showinfo(\"hello\", \"Button Clicked\")\n",
    "\n",
    "button = tk.Button(window, text=\"Click me\", command=show_message)\n",
    "button.pack(padx=10)"
   ]
  },
  {
   "cell_type": "code",
   "execution_count": 6,
   "id": "d77d6a9a",
   "metadata": {},
   "outputs": [],
   "source": [
    "text = tk.Text(window, height=5, width=10)\n",
    "text.insert(tk.END, \"This is a text widget\")\n",
    "text.pack(pady=5)"
   ]
  },
  {
   "cell_type": "code",
   "execution_count": 7,
   "id": "e4f0c812",
   "metadata": {},
   "outputs": [],
   "source": [
    "window.mainloop()"
   ]
  },
  {
   "cell_type": "code",
   "execution_count": 8,
   "id": "adf35773",
   "metadata": {},
   "outputs": [
    {
     "name": "stdout",
     "output_type": "stream",
     "text": [
      "True\n"
     ]
    }
   ],
   "source": [
    "x = 256\n",
    "z = 128 * 2\n",
    "y = 256\n",
    "print(z is y)"
   ]
  },
  {
   "cell_type": "code",
   "execution_count": 9,
   "id": "10aea9f1",
   "metadata": {},
   "outputs": [
    {
     "name": "stdout",
     "output_type": "stream",
     "text": [
      "even\n"
     ]
    }
   ],
   "source": [
    "x = 10\n",
    "result = \"even\" if x % 2 == 0 else \"odd\"\n",
    "print(result)"
   ]
  },
  {
   "cell_type": "code",
   "execution_count": 10,
   "id": "aa04c50f",
   "metadata": {},
   "outputs": [
    {
     "name": "stdout",
     "output_type": "stream",
     "text": [
      "Unknown\n"
     ]
    }
   ],
   "source": [
    "def status(code):\n",
    "    match code:\n",
    "        case 200:\n",
    "            return \"OK\"\n",
    "        case 404:\n",
    "            return \"Not Found\"\n",
    "        case 500:\n",
    "            return \"Server Error\"\n",
    "        case _:\n",
    "            return \"Unknown\"\n",
    "\n",
    "print(status(400))"
   ]
  },
  {
   "cell_type": "code",
   "execution_count": 11,
   "id": "4a375aa7",
   "metadata": {},
   "outputs": [
    {
     "name": "stdout",
     "output_type": "stream",
     "text": [
      "1\n"
     ]
    }
   ],
   "source": [
    "import random\n",
    "print(random.randrange(1, 5))\n"
   ]
  },
  {
   "cell_type": "code",
   "execution_count": 12,
   "id": "7f4cad36",
   "metadata": {},
   "outputs": [
    {
     "name": "stdout",
     "output_type": "stream",
     "text": [
      "0 apple\n",
      "1 banana\n",
      "2 cherry\n"
     ]
    }
   ],
   "source": [
    "fruits = [\"apple\", \"banana\", \"cherry\"]\n",
    "\n",
    "for i, value in enumerate(fruits):\n",
    "    print(i, value)"
   ]
  },
  {
   "cell_type": "code",
   "execution_count": 13,
   "id": "ffbf6de0",
   "metadata": {},
   "outputs": [
    {
     "name": "stdout",
     "output_type": "stream",
     "text": [
      "1\n"
     ]
    }
   ],
   "source": [
    "cnt = 0\n",
    "\n",
    "def increment():\n",
    "    global cnt\n",
    "    cnt += 1\n",
    "\n",
    "increment()\n",
    "print(cnt)"
   ]
  },
  {
   "cell_type": "code",
   "execution_count": 14,
   "id": "3b2dccaa",
   "metadata": {},
   "outputs": [
    {
     "name": "stdout",
     "output_type": "stream",
     "text": [
      "10\n"
     ]
    }
   ],
   "source": [
    "def add_all(*args):\n",
    "    return sum(args)\n",
    "\n",
    "print(add_all(1,2,3,4))"
   ]
  },
  {
   "cell_type": "code",
   "execution_count": 15,
   "id": "4af94f0b",
   "metadata": {},
   "outputs": [
    {
     "name": "stdout",
     "output_type": "stream",
     "text": [
      "name, Alice\n",
      "age, 30\n",
      "city, Paris\n"
     ]
    }
   ],
   "source": [
    "def show_info(**kwargs):\n",
    "    for key, value in kwargs.items():\n",
    "        print(f\"{key}, {value}\")\n",
    "    \n",
    "show_info(name=\"Alice\", age=\"30\", city=\"Paris\")"
   ]
  },
  {
   "cell_type": "code",
   "execution_count": 16,
   "id": "3acfd277",
   "metadata": {},
   "outputs": [
    {
     "name": "stdout",
     "output_type": "stream",
     "text": [
      "Positional: (1, 2, 3)\n",
      "Keyword: {'a': 'x', 'b': 'y'}\n"
     ]
    }
   ],
   "source": [
    "def mixed(*args, **kwargs):\n",
    "    print(\"Positional:\", args)\n",
    "    print(\"Keyword:\", kwargs)\n",
    "\n",
    "mixed(1, 2, 3, a=\"x\", b=\"y\")\n"
   ]
  },
  {
   "cell_type": "code",
   "execution_count": 17,
   "id": "4259a0f9",
   "metadata": {},
   "outputs": [
    {
     "name": "stdout",
     "output_type": "stream",
     "text": [
      "4\n"
     ]
    }
   ],
   "source": [
    "square = lambda x: x**2\n",
    "print(square(2))"
   ]
  },
  {
   "cell_type": "code",
   "execution_count": 18,
   "id": "688debdc",
   "metadata": {},
   "outputs": [
    {
     "name": "stdout",
     "output_type": "stream",
     "text": [
      "[1, 4, 9]\n"
     ]
    }
   ],
   "source": [
    "nums = [1, 2, 3]\n",
    "squares = list(map(lambda x: x**2, nums))\n",
    "print(squares)"
   ]
  },
  {
   "cell_type": "code",
   "execution_count": 20,
   "id": "8da6f52f",
   "metadata": {},
   "outputs": [
    {
     "name": "stdout",
     "output_type": "stream",
     "text": [
      "120\n"
     ]
    }
   ],
   "source": [
    "def factorial(n: int) -> int:\n",
    "    if n == 0:\n",
    "        return 1\n",
    "\n",
    "    return factorial(n - 1) * n\n",
    "\n",
    "print(factorial(5))"
   ]
  },
  {
   "cell_type": "code",
   "execution_count": 21,
   "id": "388c3c8a",
   "metadata": {},
   "outputs": [
    {
     "name": "stdout",
     "output_type": "stream",
     "text": [
      "olleH\n"
     ]
    }
   ],
   "source": [
    "def reversed(s: str) -> str:\n",
    "    if len(s) <= 1:\n",
    "        return s\n",
    "    \n",
    "    return reversed(s[1:]) + s[0]\n",
    "\n",
    "print(reversed(\"Hello\"))"
   ]
  },
  {
   "cell_type": "code",
   "execution_count": 23,
   "id": "a5d3962f",
   "metadata": {},
   "outputs": [
    {
     "name": "stdout",
     "output_type": "stream",
     "text": [
      "Example\n"
     ]
    }
   ],
   "source": [
    "with open(\"example.txt\", 'r') as file:\n",
    "    contents = file.read()\n",
    "    print(contents)"
   ]
  },
  {
   "cell_type": "code",
   "execution_count": 24,
   "id": "ebed2d6b",
   "metadata": {},
   "outputs": [],
   "source": [
    "with open(\"output.txt\", 'w') as file:\n",
    "    file.write('Hi')\n",
    "    file.write(\"Good morning\")"
   ]
  },
  {
   "cell_type": "code",
   "execution_count": 26,
   "id": "08f7d7b3",
   "metadata": {},
   "outputs": [],
   "source": [
    "with open(\"output.txt\", \"a\") as file:\n",
    "    file.write(\"Appended line.\\n\")"
   ]
  },
  {
   "cell_type": "code",
   "execution_count": 27,
   "id": "42d624fb",
   "metadata": {},
   "outputs": [
    {
     "name": "stdout",
     "output_type": "stream",
     "text": [
      "Student(name='Phuc', gpa='4.0')\n",
      "3.5\n"
     ]
    }
   ],
   "source": [
    "class Student:\n",
    "    def __init__(self, name: str, gpa: float):\n",
    "        self.__name = name\n",
    "        self.__gpa = gpa\n",
    "\n",
    "    def get_name(self) -> str:\n",
    "        return self.__name\n",
    "    \n",
    "    def get_gpa(self) -> str:\n",
    "        return self.__gpa\n",
    "    \n",
    "    def set_name(self, new_name: str) -> None:\n",
    "        self.__name = new_name\n",
    "\n",
    "    def set_gpa(self, new_gpa: float) -> None:\n",
    "        if 0.0 <= new_gpa <= 4.0:\n",
    "            self.__gpa = new_gpa\n",
    "        else:\n",
    "            print(\"Invalid GPA\")\n",
    "\n",
    "    def __str__(self) -> str:\n",
    "        return f\"Student(name='{self.__name}', gpa='{self.__gpa}')\"\n",
    "    \n",
    "s = Student(\"Phuc\", 4.0)\n",
    "print(s)\n",
    "s.set_gpa(3.5)\n",
    "print(s.get_gpa())"
   ]
  },
  {
   "cell_type": "code",
   "execution_count": 29,
   "id": "aecaf356",
   "metadata": {},
   "outputs": [
    {
     "name": "stdout",
     "output_type": "stream",
     "text": [
      "You cant divide by 0\n",
      "Completed\n"
     ]
    }
   ],
   "source": [
    "try:\n",
    "    val = int(input(\"Enter an integer: \"))\n",
    "    result = 10 / val\n",
    "except ValueError:\n",
    "    print(\"Input must be integer\")\n",
    "except ZeroDivisionError:\n",
    "    print(\"You cant divide by 0\")\n",
    "else:\n",
    "    print(f\"Result is {result}\")\n",
    "finally:\n",
    "    print(\"Completed\")"
   ]
  },
  {
   "cell_type": "code",
   "execution_count": 30,
   "id": "bb1aad81",
   "metadata": {},
   "outputs": [
    {
     "name": "stdout",
     "output_type": "stream",
     "text": [
      "Animal: Whiskers\n",
      "Cat of breed: Siamese\n"
     ]
    }
   ],
   "source": [
    "class Animal:\n",
    "    def __init__(self, name):\n",
    "        self.name = name\n",
    "        print(f\"Animal: {self.name}\")\n",
    "\n",
    "class Cat(Animal):\n",
    "    def __init__(self, name, breed):\n",
    "        super().__init__(name)  # Call base class constructor\n",
    "        self.breed = breed\n",
    "        print(f\"Cat of breed: {self.breed}\")\n",
    "\n",
    "# Usage\n",
    "c = Cat(\"Whiskers\", \"Siamese\")\n"
   ]
  },
  {
   "cell_type": "code",
   "execution_count": null,
   "id": "7d3767fb",
   "metadata": {},
   "outputs": [],
   "source": []
  }
 ],
 "metadata": {
  "kernelspec": {
   "display_name": "venv",
   "language": "python",
   "name": "python3"
  },
  "language_info": {
   "codemirror_mode": {
    "name": "ipython",
    "version": 3
   },
   "file_extension": ".py",
   "mimetype": "text/x-python",
   "name": "python",
   "nbconvert_exporter": "python",
   "pygments_lexer": "ipython3",
   "version": "3.13.2"
  }
 },
 "nbformat": 4,
 "nbformat_minor": 5
}
