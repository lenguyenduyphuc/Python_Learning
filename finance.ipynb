{
 "cells": [
  {
   "cell_type": "code",
   "execution_count": null,
   "id": "4ccc4e70",
   "metadata": {},
   "outputs": [],
   "source": [
    "import pandas as pd\n",
    "import numpy as np\n",
    "import yfinance as yf\n",
    "\n",
    "def fetch_close_prices(symbol, start_date, end_date):\n",
    "    df = yf.download(symbol, start=start_date, end=end_date, auto_adjust=False, progress=False)\n",
    "    df = df[df.index <= pd.to_datetime(end_date)]\n",
    "    return df['Close']\n",
    "\n",
    "def compute_volatility(symbol, end_date, num_returns):\n",
    "    buffer_days = int(num_returns * 1.5)\n",
    "    start_date = pd.to_datetime(end_date) - pd.DateOffset(days=buffer_days)\n",
    "\n",
    "    closes = fetch_close_prices(symbol, start_date, end_date)\n",
    "    closes = closes.tail(num_returns + 1)  # N+1 prices = N returns\n",
    "\n",
    "    returns = closes.pct_change().dropna()  # simple return\n",
    "\n",
    "    # Convert to float using .item() which guarantees a scalar\n",
    "    daily_sd = returns.std(ddof=0).item()\n",
    "    annual_vol = (daily_sd * np.sqrt(252)).item()\n",
    "\n",
    "    return round(daily_sd, 4), round(annual_vol, 4)\n",
    "\n",
    "# Parameters\n",
    "symbol = \"NVDA\"\n",
    "end_date = \"2025-04-01\"\n",
    "\n",
    "# Compute volatility for each period\n",
    "sd_270, vol_270 = compute_volatility(symbol, end_date, 270)\n",
    "sd_180, vol_180 = compute_volatility(symbol, end_date, 180)\n",
    "sd_90,  vol_90  = compute_volatility(symbol, end_date, 90)\n",
    "\n",
    "# Output formatted exactly like Excel screenshot\n",
    "print(\"270\")\n",
    "print(f\"Daily S.D. {sd_270:.2%}\")\n",
    "print(f\"Annualized Volatility {vol_270:.2%}\")\n",
    "\n",
    "print(\"180\")\n",
    "print(f\"Daily S.D. {sd_180:.2%}\")\n",
    "print(f\"Annualized Volatility {vol_180:.2%}\")\n",
    "\n",
    "print(\"Number of days 90\")\n",
    "print(f\"Daily SD {sd_90:.2%}\")\n",
    "print(f\"Annualized Volatility {vol_90:.2%}\")\n"
   ]
  }
 ],
 "metadata": {
  "kernelspec": {
   "display_name": "venv",
   "language": "python",
   "name": "python3"
  },
  "language_info": {
   "name": "python",
   "version": "3.13.2"
  }
 },
 "nbformat": 4,
 "nbformat_minor": 5
}
