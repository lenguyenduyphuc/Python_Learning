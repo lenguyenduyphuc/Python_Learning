{
 "cells": [
  {
   "cell_type": "code",
   "execution_count": null,
   "id": "4ccc4e70",
   "metadata": {},
   "outputs": [
    {
     "name": "stdout",
     "output_type": "stream",
     "text": [
      "270\n",
      "Daily S.D. 3.61%\n",
      "Annualized Volatility 57.34%\n",
      "\n",
      "180\n",
      "Daily S.D. 3.36%\n",
      "Annualized Volatility 53.35%\n",
      "\n",
      "Number of days 90\n",
      "Daily SD 4.18%\n",
      "Annualized Volatility 66.38%\n",
      "\n"
     ]
    }
   ],
   "source": [
    "import pandas as pd\n",
    "import numpy as np\n",
    "import yfinance as yf\n",
    "\n",
    "def fetch_close_prices(symbol, start_date, end_date):\n",
    "    df = yf.download(symbol, start=start_date, end=end_date, auto_adjust=False, progress=False)\n",
    "    df = df[df.index <= pd.to_datetime(end_date)]\n",
    "    return df['Close']\n",
    "\n",
    "def compute_volatility(symbol, end_date, num_returns):\n",
    "    buffer_days = int(num_returns * 1.5)\n",
    "    start_date = pd.to_datetime(end_date) - pd.DateOffset(days=buffer_days)\n",
    "\n",
    "    closes = fetch_close_prices(symbol, start_date, end_date)\n",
    "    closes = closes.tail(num_returns + 1)\n",
    "\n",
    "    returns = closes.pct_change().dropna()\n",
    "\n",
    "    # Final fix: round BEFORE multiplying (to mimic Excel)\n",
    "    daily_sd = round(returns.std(ddof=0).item(), 4)\n",
    "    annual_vol = round(daily_sd * np.sqrt(252), 4)\n",
    "\n",
    "    return daily_sd, annual_vol\n",
    "\n",
    "symbol = \"NVDA\"\n",
    "end_date = \"2025-04-01\"\n",
    "\n",
    "sd_270, vol_270 = compute_volatility(symbol, end_date, 270)\n",
    "sd_180, vol_180 = compute_volatility(symbol, end_date, 180)\n",
    "sd_90,  vol_90  = compute_volatility(symbol, end_date, 90)\n",
    "\n",
    "print(\"270\")\n",
    "print(f\"Daily S.D. {sd_270:.2%}\")\n",
    "print(f\"Annualized Volatility {vol_270:.2%}\")\n",
    "\n",
    "print(\"180\")\n",
    "print(f\"Daily S.D. {sd_180:.2%}\")\n",
    "print(f\"Annualized Volatility {vol_180:.2%}\")\n",
    "\n",
    "print(\"Number of days 90\")\n",
    "print(f\"Daily SD {sd_90:.2%}\")\n",
    "print(f\"Annualized Volatility {vol_90:.2%}\")\n"
   ]
  }
 ],
 "metadata": {
  "kernelspec": {
   "display_name": "venv",
   "language": "python",
   "name": "python3"
  },
  "language_info": {
   "codemirror_mode": {
    "name": "ipython",
    "version": 3
   },
   "file_extension": ".py",
   "mimetype": "text/x-python",
   "name": "python",
   "nbconvert_exporter": "python",
   "pygments_lexer": "ipython3",
   "version": "3.13.2"
  }
 },
 "nbformat": 4,
 "nbformat_minor": 5
}
